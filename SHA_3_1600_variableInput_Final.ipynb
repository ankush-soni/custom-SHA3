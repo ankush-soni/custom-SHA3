{
 "cells": [
  {
   "cell_type": "code",
   "execution_count": 34,
   "metadata": {
    "id": "8G1XvrNVZra-"
   },
   "outputs": [],
   "source": [
    "import binascii\n",
    "import time\n",
    "class Keccak:\n",
    "   \n",
    "    __STATE_LENGTH = 1600\n",
    "    __DELIMITED_SUFFIX = 0x06\n",
    "    __SHA3_RATE_LENGTH = 256\n",
    "    def __init__(self,variant=2):\n",
    "        self.__state_bytes_length = self.__STATE_LENGTH // 8\n",
    "        self.__delimited_suffix = self.__DELIMITED_SUFFIX\n",
    "\n",
    "        self.__SHA3_RATE_LENGTH = variant\n",
    "        self.__rate_bytes_length = self.__SHA3_RATE_LENGTH // 8\n",
    "        self.__state_in_bytes = bytearray([0 for i in range(self.__state_bytes_length)])\n",
    "        self.__capacity_bytes_length = self.__state_bytes_length - self.__rate_bytes_length\n",
    "        self.__hash_bytes_length = self.__capacity_bytes_length//2\n",
    "        self.__hash_bytes = bytearray()\n",
    " \n",
    "    \n",
    "    @staticmethod\n",
    "    def __rotate_word(word, n):\n",
    "        return ((word >> (64 - (n % 64))) + (word << (n % 64))) % (1 << 64)\n",
    "\n",
    "    @staticmethod\n",
    "    def __load_64_bytes(byte_array):\n",
    "        return sum((byte_array[i] << (8 * i)) for i in range(8))\n",
    "\n",
    "    @staticmethod\n",
    "    def __store_64_bytes(integer):\n",
    "        return list((integer >> (8 * i)) % 256 for i in range(8))\n",
    "\n",
    "    def __run_inner_hash_functions(self, lanes):\n",
    "        R = 1\n",
    "        for round in range(24):\n",
    "\n",
    "            # θ\n",
    "            C = [lanes[x][0] ^ lanes[x][1] ^ lanes[x][2] ^ lanes[x][3] ^ lanes[x][4] for x in range(5)]\n",
    "            D = [C[(x + 4) % 5] ^ self.__rotate_word(C[(x + 1) % 5], 1) for x in range(5)]\n",
    "            lanes = [[lanes[x][y] ^ D[x] for y in range(5)] for x in range(5)]\n",
    "\n",
    "            # ρ and π\n",
    "            (x, y) = (1, 0)\n",
    "            current = lanes[x][y]\n",
    "            for t in range(24):\n",
    "                (x, y) = (y, (2 * x + 3 * y) % 5)\n",
    "                (current, lanes[x][y]) = (lanes[x][y], self.__rotate_word(current, (t + 1) * (t + 2) // 2))\n",
    "\n",
    "            # χ\n",
    "            for y in range(5):\n",
    "                T = [lanes[x][y] for x in range(5)]\n",
    "                for x in range(5):\n",
    "                    lanes[x][y] = T[x] ^ ((~T[(x + 1) % 5]) & T[(x + 2) % 5])\n",
    "\n",
    "            # ι\n",
    "            for j in range(7):\n",
    "                R = ((R << 1) ^ ((R >> 7) * 0x71)) % 256\n",
    "                if R & 2:\n",
    "                    lanes[0][0] = lanes[0][0] ^ (1 << ((1 << j) - 1))\n",
    "\n",
    "        return lanes\n",
    "\n",
    "    def __run_hash_function(self):\n",
    "        # In column first order\n",
    "        lanes = [[self.__load_64_bytes(self.__state_in_bytes[8 * (x + 5 * y):\n",
    "                                                             8 * (x + 5 * y) + 8])\n",
    "                  for y in range(5)]\n",
    "                 for x in range(5)]\n",
    "\n",
    "        lanes = self.__run_inner_hash_functions(lanes)\n",
    "\n",
    "        state_in_bytes = bytearray(200)\n",
    "        for x in range(5):\n",
    "            for y in range(5):\n",
    "                state_in_bytes[8 * (x + 5 * y):\n",
    "                               8 * (x + 5 * y) + 8] = self.__store_64_bytes(lanes[x][y])\n",
    "\n",
    "        self.__state_in_bytes = state_in_bytes\n",
    "\n",
    "    def get_hash_of(self, input_bytes):\n",
    "        block_size = 0\n",
    "        message_offset = 0\n",
    "\n",
    "        # === Absorb all the input blocks ===\n",
    "        while message_offset < len(input_bytes):\n",
    "            block_size = min(len(input_bytes) - message_offset, self.__rate_bytes_length)\n",
    "\n",
    "            for i in range(block_size):\n",
    "                self.__state_in_bytes[i] ^= input_bytes[message_offset + i]\n",
    "\n",
    "            message_offset += block_size\n",
    "\n",
    "            if block_size == self.__rate_bytes_length:\n",
    "                self.__run_hash_function()\n",
    "                block_size = 0\n",
    "\n",
    "        # === Do the padding and switch to the squeezing phase ===\n",
    "        self.__state_in_bytes[block_size] ^= self.__delimited_suffix\n",
    "\n",
    "        if ((self.__delimited_suffix & 0x80) != 0) and (block_size == (self.__rate_bytes_length - 1)):\n",
    "            self.__run_hash_function()\n",
    "\n",
    "        self.__state_in_bytes[self.__rate_bytes_length - 1] ^= 0x80\n",
    "        self.__run_hash_function()\n",
    "\n",
    "        # === Squeeze out all the output blocks ===\n",
    "        while self.__hash_bytes_length > 0:\n",
    "            block_size = min(self.__hash_bytes_length, self.__rate_bytes_length)\n",
    "            self.__hash_bytes += self.__state_in_bytes[0: block_size]\n",
    "            self.__hash_bytes_length -= block_size\n",
    "\n",
    "            if self.__hash_bytes_length > 0:\n",
    "                self.__run_hash_function()\n",
    "\n",
    "        return binascii.hexlify(self.__hash_bytes)"
   ]
  },
  {
   "cell_type": "code",
   "execution_count": null,
   "metadata": {
    "colab": {
     "base_uri": "https://localhost:8080/"
    },
    "id": "73Au6AhXaCCz",
    "outputId": "4ef51190-b078-45d6-ac51-7054074efdba"
   },
   "outputs": [],
   "source": []
  },
  {
   "cell_type": "code",
   "execution_count": 35,
   "metadata": {
    "id": "U4rz3xh-ZrbG"
   },
   "outputs": [],
   "source": [
    "import time\n",
    "import matplotlib.pyplot as plt\n",
    "execution_times = []"
   ]
  },
  {
   "cell_type": "code",
   "execution_count": 36,
   "metadata": {
    "colab": {
     "base_uri": "https://localhost:8080/",
     "height": 434
    },
    "id": "PD2HlgfnZrbH",
    "outputId": "0c14d896-44ab-4da5-f19c-50d01d9df515"
   },
   "outputs": [
    {
     "name": "stdout",
     "output_type": "stream",
     "text": [
      "Enter the rate value of SHA3: \n",
      "576\n",
      "Enter a file name: RandomOracle_Pg15.pdf\n",
      "Hash:4f51db4fc6ec38b1eeb05bbfa1ee0624ac823bade5bc41470bee220b25e037e3af013629791f29a969407109d196656180369f2ec0e4e70872abca8925efa10a\n",
      "Length of Hash: 128\n",
      "Time taken for hashing: 19.55190348625183 Seconds\n"
     ]
    }
   ],
   "source": [
    "variant = int(input(\"Enter the rate value of SHA3: \\n\"))\n",
    "keccak = None\n",
    "try:\n",
    "    keccak = Keccak(variant)\n",
    "except ValueError as v:\n",
    "    print(v)\n",
    "    exit(0)\n",
    "\n",
    "file_name = input(\"Enter a file name: \")\n",
    "file = open(file_name, \"rb\")\n",
    "contents = file.read()\n",
    "# for i in range(10):\n",
    "start = time.time()\n",
    "original_hash = keccak.get_hash_of(contents)\n",
    "end = time.time()\n",
    "execution_time = end-start\n",
    "execution_times.append(execution_time)\n",
    "print(\"Hash:\" + str(original_hash)[2:-1] + \"\\nLength of Hash: \" + str(len(original_hash)))\n",
    "print(\"Time taken for hashing: \" + str(float(execution_time)) + \" Seconds\")\n",
    "file.close()\n",
    "# print(\"Average Execution Time (10 iterations): \", sum(execution_times)/len(execution_times))"
   ]
  },
  {
   "cell_type": "code",
   "execution_count": 14,
   "metadata": {
    "id": "LYjDPOeSZrbJ"
   },
   "outputs": [],
   "source": [
    "x = [1,2,3,4,5,6,7,8,9,10]"
   ]
  },
  {
   "cell_type": "code",
   "execution_count": 15,
   "metadata": {
    "id": "_uiVeZWtZrbJ"
   },
   "outputs": [
    {
     "data": {
      "text/plain": [
       "Text(0.5, 1.0, 'SHA3-224 Execution Time (163MB)')"
      ]
     },
     "execution_count": 15,
     "metadata": {},
     "output_type": "execute_result"
    },
    {
     "data": {
      "image/png": "[encoded data removed]",
      "text/plain": [
       "<Figure size 432x288 with 1 Axes>"
      ]
     },
     "metadata": {
      "needs_background": "light"
     },
     "output_type": "display_data"
    }
   ],
   "source": [
    "plt.plot(x,execution_times, label=\"SHA3-224\",color=\"green\")\n",
    "plt.xlabel('S.No. of Execution')\n",
    "plt.ylabel('Time Taken (in seconds)')\n",
    "plt.title('SHA3-224 Execution Time (163MB)')"
   ]
  },
  {
   "cell_type": "code",
   "execution_count": null,
   "metadata": {
    "id": "FLW9df3iZrbK"
   },
   "outputs": [],
   "source": []
  },
  {
   "cell_type": "code",
   "execution_count": null,
   "metadata": {
    "id": "AEyREgfGZrbK"
   },
   "outputs": [],
   "source": []
  },
  {
   "cell_type": "code",
   "execution_count": null,
   "metadata": {
    "id": "4fZtJ5olZrbL"
   },
   "outputs": [],
   "source": []
  },
  {
   "cell_type": "code",
   "execution_count": null,
   "metadata": {
    "id": "1CE4JOnNZrbM"
   },
   "outputs": [],
   "source": []
  },
  {
   "cell_type": "code",
   "execution_count": null,
   "metadata": {
    "id": "TvU1VYF_ZrbN"
   },
   "outputs": [],
   "source": []
  },
  {
   "cell_type": "code",
   "execution_count": null,
   "metadata": {
    "id": "aniHXArOZrbN"
   },
   "outputs": [],
   "source": []
  },
  {
   "cell_type": "code",
   "execution_count": null,
   "metadata": {
    "id": "NERpwnXJZrbN"
   },
   "outputs": [],
   "source": []
  },
  {
   "cell_type": "code",
   "execution_count": null,
   "metadata": {
    "id": "TAo9AGM3ZrbO",
    "scrolled": true
   },
   "outputs": [],
   "source": []
  },
  {
   "cell_type": "code",
   "execution_count": null,
   "metadata": {
    "id": "FsiGf_V6ZrbO"
   },
   "outputs": [],
   "source": []
  },
  {
   "cell_type": "code",
   "execution_count": null,
   "metadata": {
    "id": "kp9P_yuaZrbO"
   },
   "outputs": [],
   "source": []
  }
 ],
 "metadata": {
  "accelerator": "TPU",
  "colab": {
   "collapsed_sections": [],
   "name": "SHA-3_1600_variableInput.ipynb",
   "provenance": []
  },
  "kernelspec": {
   "display_name": "Python 3 (ipykernel)",
   "language": "python",
   "name": "python3"
  },
  "language_info": {
   "codemirror_mode": {
    "name": "ipython",
    "version": 3
   },
   "file_extension": ".py",
   "mimetype": "text/x-python",
   "name": "python",
   "nbconvert_exporter": "python",
   "pygments_lexer": "ipython3",
   "version": "3.8.10"
  }
 },
 "nbformat": 4,
 "nbformat_minor": 1
}
